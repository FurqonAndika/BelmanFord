{
 "cells": [
  {
   "cell_type": "code",
   "execution_count": null,
   "id": "5d3ec0ee",
   "metadata": {
    "vscode": {
     "languageId": "plaintext"
    }
   },
   "outputs": [],
   "source": [
    "import matplotlib.pyplot as plt\n",
    "\n",
    "# --- Definisi node dan path ---\n",
    "nodes_order = ['A', 'B', 'C', 'D', 'E', 'F', 'G', 'H', 'I', 'J', 'K', 'L', 'M', 'N', 'O']\n",
    "\n",
    "# Path hasil dua algoritma\n",
    "pure_bellman_path = ['A', 'D', 'G', 'J', 'L', 'N', 'O']\n",
    "custom_bellman_path = ['A', 'B', 'E', 'H', 'K', 'M', 'O']\n",
    "\n",
    "# --- Konversi node ke indeks numerik untuk sumbu Y ---\n",
    "node_to_num = {node: i+1 for i, node in enumerate(nodes_order)}\n",
    "pure_y = [node_to_num[n] for n in pure_bellman_path]\n",
    "custom_y = [node_to_num[n] for n in custom_bellman_path]\n",
    "steps = list(range(1, len(pure_bellman_path)+1))\n",
    "\n",
    "# --- Plot ---\n",
    "plt.figure(figsize=(8,5))\n",
    "plt.plot(steps, pure_y, 'b-s', linestyle='--', label='Pure Bellman-Ford')\n",
    "plt.plot(steps, custom_y, 'r-s', linestyle='--', label='Custom Bellman')\n",
    "\n",
    "# --- Label dan gaya ---\n",
    "plt.title(\"Path Comparison: Pure Bellman-Ford vs Custom Bellman\", fontsize=13, fontweight='bold')\n",
    "plt.xlabel(\"Step\")\n",
    "plt.ylabel(\"Node (Numeric Order)\")\n",
    "plt.yticks(range(1, len(nodes_order)+1), nodes_order)\n",
    "plt.grid(True, linestyle='--', alpha=0.6)\n",
    "plt.legend()\n",
    "plt.tight_layout()\n",
    "plt.show()\n"
   ]
  },
  {
   "cell_type": "code",
   "execution_count": null,
   "id": "06d6cb52",
   "metadata": {
    "vscode": {
     "languageId": "plaintext"
    }
   },
   "outputs": [],
   "source": []
  }
 ],
 "metadata": {
  "language_info": {
   "name": "python"
  }
 },
 "nbformat": 4,
 "nbformat_minor": 5
}
